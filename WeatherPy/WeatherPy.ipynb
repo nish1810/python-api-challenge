{
 "cells": [
  {
   "cell_type": "markdown",
   "metadata": {},
   "source": [
    "# WeatherPy\n",
    "----\n",
    "\n",
    "#### Note\n",
    "* Instructions have been included for each segment. You do not have to follow them exactly, but they are included to help you think through the steps."
   ]
  },
  {
   "cell_type": "code",
   "execution_count": 6,
   "metadata": {
    "scrolled": true
   },
   "outputs": [],
   "source": [
    "# Dependencies and Setup\n",
    "import matplotlib.pyplot as plt\n",
    "import pandas as pd\n",
    "import numpy as np\n",
    "import requests\n",
    "import time\n",
    "from scipy.stats import linregress\n",
    "from pprint import pprint\n",
    "\n",
    "# Import API key\n",
    "from api_keys import weather_api_key\n",
    "\n",
    "# Incorporated citipy to determine city based on latitude and longitude\n",
    "from citipy import citipy\n",
    "\n",
    "# Output File (CSV)\n",
    "output_data_file = \"output_data/cities.csv\"\n",
    "\n",
    "# Range of latitudes and longitudes\n",
    "lat_range = (-90, 90)\n",
    "lng_range = (-180, 180)"
   ]
  },
  {
   "cell_type": "markdown",
   "metadata": {},
   "source": [
    "## Generate Cities List"
   ]
  },
  {
   "cell_type": "code",
   "execution_count": 7,
   "metadata": {},
   "outputs": [
    {
     "data": {
      "text/plain": [
       "614"
      ]
     },
     "execution_count": 7,
     "metadata": {},
     "output_type": "execute_result"
    }
   ],
   "source": [
    "# List for holding lat_lngs and cities\n",
    "lat_lngs = []\n",
    "cities = []\n",
    "\n",
    "# Create a set of random lat and lng combinations\n",
    "lats = np.random.uniform(lat_range[0], lat_range[1], size=1500)\n",
    "lngs = np.random.uniform(lng_range[0], lng_range[1], size=1500)\n",
    "lat_lngs = zip(lats, lngs)\n",
    "\n",
    "# Identify nearest city for each lat, lng combination\n",
    "for lat_lng in lat_lngs:\n",
    "    city = citipy.nearest_city(lat_lng[0], lat_lng[1]).city_name\n",
    "    \n",
    "    # If the city is unique, then add it to a our cities list\n",
    "    if city not in cities:\n",
    "        cities.append(city)\n",
    "\n",
    "# Print the city count to confirm sufficient count\n",
    "len(cities)\n"
   ]
  },
  {
   "cell_type": "code",
   "execution_count": null,
   "metadata": {},
   "outputs": [],
   "source": []
  },
  {
   "cell_type": "code",
   "execution_count": null,
   "metadata": {},
   "outputs": [],
   "source": []
  },
  {
   "cell_type": "markdown",
   "metadata": {},
   "source": [
    "### Perform API Calls\n",
    "* Perform a weather check on each city using a series of successive API calls.\n",
    "* Include a print log of each city as it'sbeing processed (with the city number and city name).\n"
   ]
  },
  {
   "cell_type": "code",
   "execution_count": 8,
   "metadata": {},
   "outputs": [],
   "source": [
    "test = cities[0]"
   ]
  },
  {
   "cell_type": "code",
   "execution_count": 9,
   "metadata": {},
   "outputs": [],
   "source": [
    "url = \"http://api.openweathermap.org/data/2.5/weather?\"\n",
    "units = \"metric\"\n",
    "City = []\n",
    "lat = []\n",
    "lng=[]\n",
    "temp=[]\n",
    "humid = []\n",
    "cloudy=[]\n",
    "windy=[]\n",
    "country = []\n",
    "date = []\n",
    "query_url = f\"{url}appid={weather_api_key}&units={units}&q=\""
   ]
  },
  {
   "cell_type": "code",
   "execution_count": 10,
   "metadata": {},
   "outputs": [
    {
     "name": "stdout",
     "output_type": "stream",
     "text": [
      "Beginning Data Retrieval\n",
      "-----------------\n",
      "Processing Record for port elizabeth\n",
      "Processing Record for baglung\n",
      "Processing Record for tasiilaq\n",
      "Processing Record for bolungarvik\n",
      "City not found. Skipping...\n",
      "Processing Record for vaini\n",
      "Processing Record for pevek\n",
      "Processing Record for victoria\n",
      "Processing Record for clyde river\n",
      "Processing Record for ushuaia\n",
      "Processing Record for bermeo\n",
      "Processing Record for lubao\n",
      "Processing Record for upernavik\n",
      "Processing Record for kapaa\n",
      "Processing Record for albany\n",
      "Processing Record for coahuayana\n",
      "Processing Record for rikitea\n",
      "Processing Record for kalabo\n",
      "Processing Record for tucumcari\n",
      "Processing Record for tuktoyaktuk\n",
      "Processing Record for tomatlan\n",
      "Processing Record for zlatoustovsk\n",
      "City not found. Skipping...\n",
      "Processing Record for laguna\n",
      "Processing Record for ostrovnoy\n",
      "Processing Record for thompson\n",
      "Processing Record for butaritari\n",
      "Processing Record for bredasdorp\n",
      "Processing Record for salinas\n",
      "Processing Record for mataura\n",
      "Processing Record for katsuura\n",
      "Processing Record for punta arenas\n",
      "Processing Record for paamiut\n",
      "Processing Record for ribeira grande\n",
      "Processing Record for meulaboh\n",
      "Processing Record for wilmington\n",
      "Processing Record for atuona\n",
      "Processing Record for husavik\n",
      "Processing Record for qaanaaq\n",
      "Processing Record for alofi\n",
      "Processing Record for ushtobe\n",
      "Processing Record for barentsburg\n",
      "City not found. Skipping...\n",
      "Processing Record for mokrous\n",
      "Processing Record for hervey bay\n",
      "Processing Record for pochutla\n",
      "Processing Record for puerto ayora\n",
      "Processing Record for puerto ayacucho\n",
      "Processing Record for northam\n",
      "Processing Record for nanakuli\n",
      "Processing Record for provideniya\n",
      "Processing Record for altay\n",
      "Processing Record for kodiak\n",
      "Processing Record for doka\n",
      "Processing Record for gumdag\n",
      "Processing Record for lebu\n",
      "Processing Record for ancud\n",
      "Processing Record for kruisfontein\n",
      "Processing Record for mehamn\n",
      "Processing Record for longyearbyen\n",
      "Processing Record for fortuna\n",
      "Processing Record for zyryanka\n",
      "Processing Record for karratha\n",
      "Processing Record for severo-kurilsk\n",
      "Processing Record for ampanihy\n",
      "Processing Record for hobart\n",
      "Processing Record for singapore\n",
      "Processing Record for hami\n",
      "Processing Record for nantucket\n",
      "Processing Record for puerto penasco\n",
      "Processing Record for poronaysk\n",
      "Processing Record for mar del plata\n",
      "Processing Record for pangnirtung\n",
      "Processing Record for tambun\n",
      "Processing Record for vila velha\n",
      "Processing Record for pacific grove\n",
      "Processing Record for busselton\n",
      "Processing Record for saint-philippe\n",
      "Processing Record for tabialan\n",
      "City not found. Skipping...\n",
      "Processing Record for basco\n",
      "Processing Record for khatanga\n",
      "Processing Record for palabuhanratu\n",
      "City not found. Skipping...\n",
      "Processing Record for taolanaro\n",
      "City not found. Skipping...\n",
      "Processing Record for hermanus\n",
      "Processing Record for surt\n",
      "Processing Record for illoqqortoormiut\n",
      "City not found. Skipping...\n",
      "Processing Record for san patricio\n",
      "Processing Record for novosheshminsk\n",
      "Processing Record for suntar\n",
      "Processing Record for carnarvon\n",
      "Processing Record for kentau\n",
      "Processing Record for hasaki\n",
      "Processing Record for dikson\n",
      "Processing Record for chokwe\n",
      "Processing Record for volginskiy\n",
      "City not found. Skipping...\n",
      "Processing Record for baykit\n",
      "Processing Record for sitka\n",
      "Processing Record for petatlan\n",
      "Processing Record for nanga eboko\n",
      "Processing Record for lorengau\n",
      "Processing Record for tilichiki\n",
      "Processing Record for inirida\n",
      "Processing Record for bargal\n",
      "City not found. Skipping...\n",
      "Processing Record for jamestown\n",
      "Processing Record for kedarnath\n",
      "City not found. Skipping...\n",
      "Processing Record for chagda\n",
      "City not found. Skipping...\n",
      "Processing Record for ponta do sol\n",
      "Processing Record for kaitangata\n",
      "Processing Record for vanimo\n",
      "Processing Record for amderma\n",
      "City not found. Skipping...\n",
      "Processing Record for comodoro rivadavia\n",
      "Processing Record for nanortalik\n",
      "Processing Record for tuatapere\n",
      "Processing Record for cabo san lucas\n",
      "Processing Record for isangel\n",
      "Processing Record for saint anthony\n",
      "Processing Record for bambous virieux\n",
      "Processing Record for acajutla\n",
      "Processing Record for nha trang\n",
      "Processing Record for vardo\n",
      "Processing Record for buin\n",
      "Processing Record for bara\n",
      "Processing Record for mabaruma\n",
      "Processing Record for tsihombe\n",
      "City not found. Skipping...\n",
      "Processing Record for sola\n",
      "Processing Record for dunedin\n",
      "Processing Record for bengkulu\n",
      "Processing Record for tari\n",
      "Processing Record for vila franca do campo\n",
      "Processing Record for cape town\n",
      "Processing Record for shchelyayur\n",
      "City not found. Skipping...\n",
      "Processing Record for torbay\n",
      "Processing Record for saint george\n",
      "Processing Record for leshukonskoye\n",
      "Processing Record for kikwit\n",
      "Processing Record for waitati\n",
      "Processing Record for ilovlya\n",
      "Processing Record for nouakchott\n",
      "Processing Record for nikolskoye\n",
      "Processing Record for cherskiy\n",
      "Processing Record for richards bay\n",
      "Processing Record for bluff\n",
      "Processing Record for kirakira\n",
      "Processing Record for dondo\n",
      "Processing Record for oussouye\n",
      "Processing Record for kavieng\n",
      "Processing Record for sept-iles\n",
      "Processing Record for mashhad\n",
      "Processing Record for los llanos de aridane\n",
      "Processing Record for marystown\n",
      "Processing Record for faya\n",
      "Processing Record for avarua\n",
      "Processing Record for cayenne\n",
      "Processing Record for lavrentiya\n",
      "Processing Record for aguai\n",
      "Processing Record for cidreira\n",
      "Processing Record for east london\n",
      "Processing Record for bathsheba\n",
      "Processing Record for razole\n",
      "Processing Record for honningsvag\n",
      "Processing Record for champerico\n",
      "Processing Record for castro\n",
      "Processing Record for katherine\n",
      "Processing Record for mahebourg\n",
      "Processing Record for evensk\n",
      "Processing Record for deyskoye\n",
      "Processing Record for fort nelson\n",
      "Processing Record for ucluelet\n",
      "Processing Record for kasempa\n",
      "Processing Record for lasa\n",
      "Processing Record for smiltene\n",
      "Processing Record for luganville\n",
      "Processing Record for port alfred\n",
      "Processing Record for omboue\n",
      "Processing Record for chiredzi\n",
      "Processing Record for nodeland\n",
      "Processing Record for hovd\n",
      "Processing Record for vaitupu\n",
      "City not found. Skipping...\n",
      "Processing Record for hilo\n",
      "Processing Record for belfast\n",
      "Processing Record for kamennomostskiy\n",
      "Processing Record for narsaq\n",
      "Processing Record for belushya guba\n",
      "City not found. Skipping...\n",
      "Processing Record for saint-francois\n",
      "Processing Record for at-bashi\n",
      "Processing Record for jalali\n",
      "Processing Record for maldonado\n",
      "Processing Record for kangalassy\n",
      "Processing Record for fairbanks\n",
      "Processing Record for geraldton\n",
      "Processing Record for attawapiskat\n",
      "City not found. Skipping...\n",
      "Processing Record for alice springs\n",
      "Processing Record for lluta\n",
      "Processing Record for taltal\n",
      "Processing Record for honggang\n",
      "Processing Record for concepcion del oro\n",
      "Processing Record for gaya\n",
      "Processing Record for ewo\n",
      "Processing Record for byron bay\n",
      "Processing Record for davila\n",
      "Processing Record for sao joao da barra\n",
      "Processing Record for yellowknife\n",
      "Processing Record for bajo baudo\n",
      "City not found. Skipping...\n",
      "Processing Record for luoyang\n",
      "Processing Record for half moon bay\n",
      "Processing Record for cocorit\n",
      "Processing Record for entre rios\n",
      "Processing Record for new norfolk\n",
      "Processing Record for farmington\n",
      "Processing Record for mayo\n",
      "Processing Record for lagoa\n",
      "Processing Record for bintulu\n",
      "Processing Record for tocopilla\n",
      "Processing Record for aimores\n",
      "Processing Record for ipanguacu\n",
      "Processing Record for puerto escondido\n",
      "Processing Record for faanui\n",
      "Processing Record for vallenar\n",
      "Processing Record for praia da vitoria\n",
      "Processing Record for kaitong\n",
      "Processing Record for nhulunbuy\n",
      "Processing Record for college\n",
      "Processing Record for rock springs\n",
      "Processing Record for aripuana\n",
      "Processing Record for okha\n",
      "Processing Record for caravelas\n",
      "Processing Record for petawawa\n",
      "Processing Record for dawlatabad\n",
      "Processing Record for chuy\n",
      "Processing Record for asau\n",
      "Processing Record for tiksi\n",
      "Processing Record for cape coast\n",
      "Processing Record for norman wells\n",
      "Processing Record for chokurdakh\n",
      "Processing Record for grindavik\n",
      "Processing Record for linkoping\n",
      "Processing Record for saskylakh\n",
      "Processing Record for north bend\n",
      "Processing Record for cam ranh\n",
      "Processing Record for iquitos\n",
      "Processing Record for trairi\n",
      "Processing Record for airai\n",
      "Processing Record for kalmunai\n",
      "Processing Record for banda aceh\n",
      "Processing Record for talnakh\n",
      "Processing Record for avera\n",
      "Processing Record for kahului\n"
     ]
    },
    {
     "name": "stdout",
     "output_type": "stream",
     "text": [
      "Processing Record for kralendijk\n",
      "Processing Record for louisbourg\n",
      "City not found. Skipping...\n",
      "Processing Record for nyurba\n",
      "Processing Record for bethel\n",
      "Processing Record for souillac\n",
      "Processing Record for washim\n",
      "Processing Record for yerbogachen\n",
      "Processing Record for camana\n",
      "Processing Record for buala\n",
      "Processing Record for shahr-e kord\n",
      "Processing Record for visnes\n",
      "Processing Record for arraial do cabo\n",
      "Processing Record for fevralsk\n",
      "City not found. Skipping...\n",
      "Processing Record for san quintin\n",
      "Processing Record for iskateley\n",
      "Processing Record for lazaro cardenas\n",
      "Processing Record for wattegama\n",
      "Processing Record for kudahuvadhoo\n",
      "Processing Record for quang ngai\n",
      "Processing Record for nicoya\n",
      "Processing Record for sorland\n",
      "Processing Record for tumaco\n",
      "Processing Record for mishkino\n",
      "Processing Record for zhigansk\n",
      "Processing Record for samarai\n",
      "Processing Record for barrow\n",
      "Processing Record for lompoc\n",
      "Processing Record for unity\n",
      "Processing Record for muzhi\n",
      "Processing Record for vanavara\n",
      "Processing Record for mount gambier\n",
      "Processing Record for georgetown\n",
      "Processing Record for acapulco\n",
      "Processing Record for rocha\n",
      "Processing Record for bo rai\n",
      "Processing Record for ossora\n",
      "Processing Record for prestice\n",
      "Processing Record for halifax\n",
      "Processing Record for guerrero negro\n",
      "Processing Record for baruun-urt\n",
      "Processing Record for saint-augustin\n",
      "Processing Record for ilulissat\n",
      "Processing Record for zapolyarnyy\n",
      "Processing Record for yemanzhelinsk\n",
      "Processing Record for aklavik\n",
      "Processing Record for las cruces\n",
      "Processing Record for saldanha\n",
      "Processing Record for florianopolis\n",
      "Processing Record for ulladulla\n",
      "Processing Record for dali\n",
      "Processing Record for fare\n",
      "Processing Record for denham springs\n",
      "Processing Record for great falls\n",
      "Processing Record for okato\n",
      "Processing Record for baie-comeau\n",
      "Processing Record for fagersta\n",
      "Processing Record for tommot\n",
      "Processing Record for pisco\n",
      "Processing Record for vestmanna\n",
      "Processing Record for staraya kulatka\n",
      "Processing Record for omsukchan\n",
      "Processing Record for zolotukhino\n",
      "Processing Record for lata\n",
      "Processing Record for ahipara\n",
      "Processing Record for perth\n",
      "Processing Record for prince rupert\n",
      "Processing Record for karaton\n",
      "Processing Record for chaohu\n",
      "Processing Record for rawannawi\n",
      "City not found. Skipping...\n",
      "Processing Record for lolua\n",
      "City not found. Skipping...\n",
      "Processing Record for teguise\n",
      "Processing Record for dzialdowo\n",
      "Processing Record for nizhneyansk\n",
      "City not found. Skipping...\n",
      "Processing Record for poum\n",
      "Processing Record for ciudad bolivar\n",
      "Processing Record for kununurra\n",
      "Processing Record for coquimbo\n",
      "Processing Record for hamilton\n",
      "Processing Record for sentyabrskiy\n",
      "City not found. Skipping...\n",
      "Processing Record for moron\n",
      "Processing Record for merke\n",
      "Processing Record for bonavista\n",
      "Processing Record for hithadhoo\n",
      "Processing Record for haibowan\n",
      "City not found. Skipping...\n",
      "Processing Record for hearst\n",
      "Processing Record for fukue\n",
      "Processing Record for kindu\n",
      "Processing Record for okhotsk\n",
      "Processing Record for pangai\n",
      "Processing Record for nalut\n",
      "Processing Record for srednekolymsk\n",
      "Processing Record for miri\n",
      "Processing Record for mentok\n",
      "City not found. Skipping...\n",
      "Processing Record for linjiang\n",
      "Processing Record for phan thiet\n",
      "Processing Record for komsomolskiy\n",
      "Processing Record for kavaratti\n",
      "Processing Record for port-gentil\n",
      "Processing Record for mrirt\n",
      "City not found. Skipping...\n",
      "Processing Record for hambantota\n",
      "Processing Record for schiffdorf\n",
      "Processing Record for bilma\n",
      "Processing Record for san felipe\n",
      "Processing Record for aguimes\n",
      "Processing Record for saint john\n",
      "Processing Record for luderitz\n",
      "Processing Record for say\n",
      "Processing Record for bandar-e lengeh\n",
      "Processing Record for okandja\n",
      "City not found. Skipping...\n",
      "Processing Record for kodino\n",
      "Processing Record for rehoboth\n",
      "Processing Record for port macquarie\n",
      "Processing Record for salalah\n",
      "Processing Record for naklo nad notecia\n",
      "Processing Record for garissa\n",
      "Processing Record for kiunga\n",
      "Processing Record for klaksvik\n",
      "Processing Record for marzuq\n",
      "Processing Record for kinsale\n",
      "Processing Record for bavleny\n",
      "Processing Record for grand river south east\n",
      "City not found. Skipping...\n",
      "Processing Record for yertarskiy\n",
      "Processing Record for fomboni\n",
      "Processing Record for bulaevo\n",
      "Processing Record for bonthe\n",
      "Processing Record for barranca\n",
      "Processing Record for santa cruz\n",
      "Processing Record for poltavka\n",
      "Processing Record for zhanaozen\n",
      "Processing Record for padang\n",
      "Processing Record for namuac\n",
      "Processing Record for santiago del estero\n",
      "Processing Record for aginskoye\n",
      "Processing Record for great yarmouth\n",
      "Processing Record for yar-sale\n",
      "Processing Record for nova olinda do norte\n",
      "Processing Record for leningradskiy\n",
      "Processing Record for la ronge\n",
      "Processing Record for debica\n",
      "Processing Record for altamont\n",
      "Processing Record for inawashiro\n",
      "Processing Record for bela\n",
      "Processing Record for vostok\n",
      "Processing Record for xining\n",
      "Processing Record for port hedland\n",
      "Processing Record for jardim\n",
      "Processing Record for sagua la grande\n",
      "Processing Record for zemio\n",
      "Processing Record for formoso do araguaia\n",
      "City not found. Skipping...\n",
      "Processing Record for sao filipe\n",
      "Processing Record for juneau\n",
      "Processing Record for harper\n",
      "Processing Record for mys shmidta\n",
      "City not found. Skipping...\n",
      "Processing Record for kattivakkam\n",
      "Processing Record for roma\n",
      "Processing Record for cruzeiro do sul\n",
      "Processing Record for samalaeulu\n",
      "City not found. Skipping...\n",
      "Processing Record for kulhudhuffushi\n",
      "Processing Record for murgab\n",
      "Processing Record for calvinia\n",
      "Processing Record for esperance\n",
      "Processing Record for walvis bay\n",
      "Processing Record for quimperle\n",
      "Processing Record for boquira\n",
      "Processing Record for rio grande\n",
      "Processing Record for tumannyy\n",
      "City not found. Skipping...\n",
      "Processing Record for exu\n",
      "Processing Record for talcahuano\n",
      "Processing Record for hay river\n",
      "Processing Record for the valley\n",
      "Processing Record for karasburg\n",
      "Processing Record for mayumba\n",
      "Processing Record for deputatskiy\n",
      "Processing Record for eureka\n",
      "Processing Record for azar shahr\n",
      "City not found. Skipping...\n",
      "Processing Record for pershotravneve\n",
      "Processing Record for baghdad\n",
      "Processing Record for innisfail\n",
      "Processing Record for maceio\n",
      "Processing Record for marawi\n",
      "Processing Record for maloshuyka\n",
      "City not found. Skipping...\n",
      "Processing Record for nishihara\n",
      "Processing Record for sokoto\n",
      "Processing Record for petropavlovsk-kamchatskiy\n",
      "Processing Record for kieta\n",
      "Processing Record for khandagayty\n",
      "Processing Record for palmer\n",
      "Processing Record for hofn\n",
      "Processing Record for anadyr\n",
      "Processing Record for boa vista\n",
      "Processing Record for coari\n",
      "Processing Record for abalak\n",
      "Processing Record for manzanillo\n",
      "Processing Record for engel-yurt\n",
      "Processing Record for skotterud\n",
      "Processing Record for along\n",
      "Processing Record for gari\n",
      "Processing Record for sioux lookout\n",
      "Processing Record for pahrump\n",
      "Processing Record for port hardy\n",
      "Processing Record for maragogi\n",
      "Processing Record for bodaybo\n",
      "Processing Record for kaele\n",
      "Processing Record for iqaluit\n",
      "Processing Record for batagay-alyta\n",
      "Processing Record for porto walter\n",
      "Processing Record for price\n",
      "Processing Record for san cristobal\n",
      "Processing Record for hvolsvollur\n",
      "Processing Record for paita\n",
      "Processing Record for naron\n",
      "Processing Record for tshikapa\n",
      "Processing Record for ranong\n",
      "Processing Record for namwala\n",
      "Processing Record for adelaide\n",
      "Processing Record for coihaique\n",
      "Processing Record for dubai\n",
      "Processing Record for mount isa\n",
      "Processing Record for makasar\n",
      "Processing Record for rorvik\n",
      "Processing Record for sarakhs\n",
      "Processing Record for chabahar\n",
      "Processing Record for maumere\n",
      "Processing Record for kamenskoye\n",
      "City not found. Skipping...\n",
      "Processing Record for lethem\n",
      "Processing Record for dingle\n",
      "Processing Record for ambon\n",
      "Processing Record for zheleznodorozhnyy\n",
      "Processing Record for kumla\n",
      "Processing Record for derzhavinsk\n",
      "Processing Record for masunga\n",
      "Processing Record for bubaque\n",
      "Processing Record for kathmandu\n",
      "Processing Record for zimmi\n",
      "Processing Record for caxito\n",
      "Processing Record for denzlingen\n",
      "Processing Record for navirai\n",
      "Processing Record for zabol\n",
      "Processing Record for mishima\n",
      "Processing Record for bandarbeyla\n",
      "Processing Record for vestmannaeyjar\n",
      "Processing Record for eastlake\n",
      "Processing Record for natal\n",
      "Processing Record for high rock\n"
     ]
    },
    {
     "name": "stdout",
     "output_type": "stream",
     "text": [
      "Processing Record for havoysund\n",
      "Processing Record for quepos\n",
      "Processing Record for port blair\n",
      "Processing Record for itaquitinga\n",
      "Processing Record for shache\n",
      "Processing Record for antioch\n",
      "Processing Record for magdalena\n",
      "Processing Record for sangar\n",
      "Processing Record for jhol\n",
      "Processing Record for zhengjiatun\n",
      "Processing Record for ajdabiya\n",
      "Processing Record for krasnoselkup\n",
      "Processing Record for vestbygda\n",
      "City not found. Skipping...\n",
      "Processing Record for alyangula\n",
      "Processing Record for biharamulo\n",
      "Processing Record for consdorf\n",
      "Processing Record for shelburne\n",
      "Processing Record for kabompo\n",
      "Processing Record for sisian\n",
      "Processing Record for skibbereen\n",
      "Processing Record for rio gallegos\n",
      "Processing Record for jiddah\n",
      "City not found. Skipping...\n",
      "Processing Record for rawson\n",
      "Processing Record for arona\n",
      "Processing Record for boyolangu\n",
      "Processing Record for sambava\n",
      "Processing Record for paracuru\n",
      "Processing Record for panaba\n",
      "Processing Record for tecoanapa\n",
      "Processing Record for mulchen\n",
      "Processing Record for payson\n",
      "Processing Record for muros\n",
      "Processing Record for jequie\n",
      "Processing Record for malanje\n",
      "Processing Record for batsfjord\n",
      "Processing Record for la solana\n",
      "Processing Record for otukpo\n",
      "Processing Record for smirnykh\n",
      "Processing Record for soligalich\n",
      "Processing Record for zhovtneve\n",
      "Processing Record for emba\n",
      "Processing Record for bereda\n",
      "Processing Record for tazagyukh\n",
      "City not found. Skipping...\n",
      "Processing Record for saleaula\n",
      "City not found. Skipping...\n",
      "Processing Record for pulandian\n",
      "Processing Record for bien hoa\n",
      "Processing Record for tonshayevo\n",
      "Processing Record for koprivnica\n",
      "Processing Record for puqi\n",
      "Processing Record for namibe\n",
      "Processing Record for alim\n",
      "Processing Record for vedaranniyam\n",
      "City not found. Skipping...\n",
      "Processing Record for gondar\n",
      "Processing Record for waipawa\n",
      "Processing Record for ponerihouen\n",
      "Processing Record for abnub\n",
      "Processing Record for kungurtug\n",
      "Processing Record for marsa matruh\n",
      "Processing Record for san rafael\n",
      "Processing Record for tromso\n",
      "Processing Record for omutninsk\n",
      "Processing Record for chama\n",
      "Processing Record for altamira\n",
      "Processing Record for labuhan\n",
      "Processing Record for muravlenko\n",
      "Processing Record for opuwo\n",
      "Processing Record for jacareacanga\n",
      "Processing Record for tagusao\n",
      "Processing Record for marcona\n",
      "City not found. Skipping...\n",
      "Processing Record for sinjar\n",
      "Processing Record for that phanom\n",
      "Processing Record for christchurch\n",
      "Processing Record for muswellbrook\n",
      "Processing Record for flin flon\n",
      "Processing Record for maputo\n",
      "Processing Record for korla\n",
      "Processing Record for naze\n",
      "Processing Record for gamba\n",
      "Processing Record for itacare\n",
      "Processing Record for nome\n",
      "Processing Record for vangaindrano\n",
      "Processing Record for santa maria\n",
      "Processing Record for galesong\n",
      "Processing Record for namatanai\n",
      "Processing Record for yulara\n",
      "Processing Record for khromtau\n",
      "Processing Record for mikhaylovka\n",
      "Processing Record for ukiah\n",
      "Processing Record for port lincoln\n",
      "Processing Record for agadez\n",
      "Processing Record for aksu\n",
      "Processing Record for tonota\n",
      "Processing Record for ballina\n",
      "Processing Record for thap khlo\n",
      "Processing Record for acari\n",
      "Processing Record for alta floresta\n",
      "Processing Record for nuuk\n",
      "Processing Record for carutapera\n",
      "Processing Record for sakaiminato\n",
      "Processing Record for urbana\n",
      "Processing Record for athabasca\n",
      "Processing Record for dhidhdhoo\n",
      "Processing Record for sinop\n",
      "Processing Record for dvinskoy\n",
      "Processing Record for domoni\n",
      "Processing Record for bloemfontein\n",
      "Processing Record for cockburn town\n",
      "Processing Record for duderstadt\n",
      "Processing Record for samusu\n",
      "City not found. Skipping...\n",
      "Processing Record for pingliang\n",
      "Processing Record for beira\n",
      "Processing Record for itarema\n",
      "Processing Record for vieste\n",
      "Processing Record for mareeba\n",
      "Processing Record for keti bandar\n",
      "Processing Record for baltoji voke\n",
      "Processing Record for kenai\n",
      "Processing Record for badarpur\n",
      "Processing Record for rosita\n",
      "Processing Record for batagay\n",
      "Processing Record for camacha\n",
      "Processing Record for hirara\n",
      "Processing Record for namanyere\n",
      "Processing Record for kloulklubed\n",
      "Processing Record for fort saint john\n",
      "City not found. Skipping...\n",
      "Processing Record for melton\n"
     ]
    }
   ],
   "source": [
    "print(\"Beginning Data Retrieval\")\n",
    "print(\"-----------------\")\n",
    "for city in cities:\n",
    "    print(f'Processing Record for {city}')\n",
    "    response = requests.get(query_url + city).json()\n",
    "    try:\n",
    "        City.append(response['name'])\n",
    "        lat.append(response['coord']['lat'])\n",
    "        lng.append(response['coord']['lon'])\n",
    "        temp.append(response['main']['temp_max'])\n",
    "        humid.append(response['main']['humidity'])\n",
    "        cloudy.append(response['clouds']['all'])\n",
    "        windy.append(response['wind']['speed'])\n",
    "        country.append(response['sys']['country'])\n",
    "        date.append(response['dt'])\n",
    "    except:\n",
    "        print(\"City not found. Skipping...\")"
   ]
  },
  {
   "cell_type": "code",
   "execution_count": 12,
   "metadata": {},
   "outputs": [],
   "source": [
    "dict = {\"City\" : City,\"Lat\": lat, \"Lng\" : lng, \"Max Temp\" : temp, \"Humidity\" : humid, \"Cloudiness\": cloudy, \"Wind Speed\": windy, \"Country\": country, \"Date\": date}"
   ]
  },
  {
   "cell_type": "code",
   "execution_count": 25,
   "metadata": {},
   "outputs": [],
   "source": [
    "cities_df = pd.DataFrame(dict)"
   ]
  },
  {
   "cell_type": "code",
   "execution_count": 26,
   "metadata": {},
   "outputs": [
    {
     "data": {
      "text/html": [
       "<div>\n",
       "<style scoped>\n",
       "    .dataframe tbody tr th:only-of-type {\n",
       "        vertical-align: middle;\n",
       "    }\n",
       "\n",
       "    .dataframe tbody tr th {\n",
       "        vertical-align: top;\n",
       "    }\n",
       "\n",
       "    .dataframe thead th {\n",
       "        text-align: right;\n",
       "    }\n",
       "</style>\n",
       "<table border=\"1\" class=\"dataframe\">\n",
       "  <thead>\n",
       "    <tr style=\"text-align: right;\">\n",
       "      <th></th>\n",
       "      <th>City</th>\n",
       "      <th>Lat</th>\n",
       "      <th>Lng</th>\n",
       "      <th>Max Temp</th>\n",
       "      <th>Humidity</th>\n",
       "      <th>Cloudiness</th>\n",
       "      <th>Wind Speed</th>\n",
       "      <th>Country</th>\n",
       "      <th>Date</th>\n",
       "    </tr>\n",
       "  </thead>\n",
       "  <tbody>\n",
       "    <tr>\n",
       "      <th>0</th>\n",
       "      <td>Port Elizabeth</td>\n",
       "      <td>-33.9180</td>\n",
       "      <td>25.5701</td>\n",
       "      <td>23.00</td>\n",
       "      <td>83</td>\n",
       "      <td>75</td>\n",
       "      <td>8.23</td>\n",
       "      <td>ZA</td>\n",
       "      <td>1612366424</td>\n",
       "    </tr>\n",
       "    <tr>\n",
       "      <th>1</th>\n",
       "      <td>Bāglung</td>\n",
       "      <td>28.2719</td>\n",
       "      <td>83.5898</td>\n",
       "      <td>9.86</td>\n",
       "      <td>49</td>\n",
       "      <td>16</td>\n",
       "      <td>2.33</td>\n",
       "      <td>NP</td>\n",
       "      <td>1612366323</td>\n",
       "    </tr>\n",
       "    <tr>\n",
       "      <th>2</th>\n",
       "      <td>Tasiilaq</td>\n",
       "      <td>65.6145</td>\n",
       "      <td>-37.6368</td>\n",
       "      <td>-2.36</td>\n",
       "      <td>97</td>\n",
       "      <td>100</td>\n",
       "      <td>9.48</td>\n",
       "      <td>GL</td>\n",
       "      <td>1612366424</td>\n",
       "    </tr>\n",
       "    <tr>\n",
       "      <th>3</th>\n",
       "      <td>Vaini</td>\n",
       "      <td>-21.2000</td>\n",
       "      <td>-175.2000</td>\n",
       "      <td>25.00</td>\n",
       "      <td>94</td>\n",
       "      <td>75</td>\n",
       "      <td>2.74</td>\n",
       "      <td>TO</td>\n",
       "      <td>1612366425</td>\n",
       "    </tr>\n",
       "    <tr>\n",
       "      <th>4</th>\n",
       "      <td>Pevek</td>\n",
       "      <td>69.7008</td>\n",
       "      <td>170.3133</td>\n",
       "      <td>-22.17</td>\n",
       "      <td>76</td>\n",
       "      <td>58</td>\n",
       "      <td>3.61</td>\n",
       "      <td>RU</td>\n",
       "      <td>1612366425</td>\n",
       "    </tr>\n",
       "    <tr>\n",
       "      <th>...</th>\n",
       "      <td>...</td>\n",
       "      <td>...</td>\n",
       "      <td>...</td>\n",
       "      <td>...</td>\n",
       "      <td>...</td>\n",
       "      <td>...</td>\n",
       "      <td>...</td>\n",
       "      <td>...</td>\n",
       "      <td>...</td>\n",
       "    </tr>\n",
       "    <tr>\n",
       "      <th>565</th>\n",
       "      <td>Camacha</td>\n",
       "      <td>33.0833</td>\n",
       "      <td>-16.3333</td>\n",
       "      <td>18.00</td>\n",
       "      <td>72</td>\n",
       "      <td>75</td>\n",
       "      <td>6.17</td>\n",
       "      <td>PT</td>\n",
       "      <td>1612366489</td>\n",
       "    </tr>\n",
       "    <tr>\n",
       "      <th>566</th>\n",
       "      <td>Hirara</td>\n",
       "      <td>24.8000</td>\n",
       "      <td>125.2833</td>\n",
       "      <td>18.73</td>\n",
       "      <td>65</td>\n",
       "      <td>29</td>\n",
       "      <td>6.27</td>\n",
       "      <td>JP</td>\n",
       "      <td>1612366489</td>\n",
       "    </tr>\n",
       "    <tr>\n",
       "      <th>567</th>\n",
       "      <td>Namanyere</td>\n",
       "      <td>-7.5167</td>\n",
       "      <td>31.0500</td>\n",
       "      <td>19.46</td>\n",
       "      <td>90</td>\n",
       "      <td>97</td>\n",
       "      <td>0.82</td>\n",
       "      <td>TZ</td>\n",
       "      <td>1612366337</td>\n",
       "    </tr>\n",
       "    <tr>\n",
       "      <th>568</th>\n",
       "      <td>Kloulklubed</td>\n",
       "      <td>7.0419</td>\n",
       "      <td>134.2556</td>\n",
       "      <td>27.00</td>\n",
       "      <td>83</td>\n",
       "      <td>75</td>\n",
       "      <td>3.09</td>\n",
       "      <td>PW</td>\n",
       "      <td>1612366490</td>\n",
       "    </tr>\n",
       "    <tr>\n",
       "      <th>569</th>\n",
       "      <td>Melton</td>\n",
       "      <td>-37.6833</td>\n",
       "      <td>144.5833</td>\n",
       "      <td>13.89</td>\n",
       "      <td>81</td>\n",
       "      <td>2</td>\n",
       "      <td>0.27</td>\n",
       "      <td>AU</td>\n",
       "      <td>1612366262</td>\n",
       "    </tr>\n",
       "  </tbody>\n",
       "</table>\n",
       "<p>570 rows × 9 columns</p>\n",
       "</div>"
      ],
      "text/plain": [
       "               City      Lat       Lng  Max Temp  Humidity  Cloudiness  \\\n",
       "0    Port Elizabeth -33.9180   25.5701     23.00        83          75   \n",
       "1           Bāglung  28.2719   83.5898      9.86        49          16   \n",
       "2          Tasiilaq  65.6145  -37.6368     -2.36        97         100   \n",
       "3             Vaini -21.2000 -175.2000     25.00        94          75   \n",
       "4             Pevek  69.7008  170.3133    -22.17        76          58   \n",
       "..              ...      ...       ...       ...       ...         ...   \n",
       "565         Camacha  33.0833  -16.3333     18.00        72          75   \n",
       "566          Hirara  24.8000  125.2833     18.73        65          29   \n",
       "567       Namanyere  -7.5167   31.0500     19.46        90          97   \n",
       "568     Kloulklubed   7.0419  134.2556     27.00        83          75   \n",
       "569          Melton -37.6833  144.5833     13.89        81           2   \n",
       "\n",
       "     Wind Speed Country        Date  \n",
       "0          8.23      ZA  1612366424  \n",
       "1          2.33      NP  1612366323  \n",
       "2          9.48      GL  1612366424  \n",
       "3          2.74      TO  1612366425  \n",
       "4          3.61      RU  1612366425  \n",
       "..          ...     ...         ...  \n",
       "565        6.17      PT  1612366489  \n",
       "566        6.27      JP  1612366489  \n",
       "567        0.82      TZ  1612366337  \n",
       "568        3.09      PW  1612366490  \n",
       "569        0.27      AU  1612366262  \n",
       "\n",
       "[570 rows x 9 columns]"
      ]
     },
     "execution_count": 26,
     "metadata": {},
     "output_type": "execute_result"
    }
   ],
   "source": [
    "cities_df"
   ]
  },
  {
   "cell_type": "code",
   "execution_count": 27,
   "metadata": {},
   "outputs": [
    {
     "name": "stdout",
     "output_type": "stream",
     "text": [
      "<class 'pandas.core.frame.DataFrame'>\n",
      "RangeIndex: 570 entries, 0 to 569\n",
      "Data columns (total 9 columns):\n",
      " #   Column      Non-Null Count  Dtype  \n",
      "---  ------      --------------  -----  \n",
      " 0   City        570 non-null    object \n",
      " 1   Lat         570 non-null    float64\n",
      " 2   Lng         570 non-null    float64\n",
      " 3   Max Temp    570 non-null    float64\n",
      " 4   Humidity    570 non-null    int64  \n",
      " 5   Cloudiness  570 non-null    int64  \n",
      " 6   Wind Speed  570 non-null    float64\n",
      " 7   Country     570 non-null    object \n",
      " 8   Date        570 non-null    int64  \n",
      "dtypes: float64(4), int64(3), object(2)\n",
      "memory usage: 40.2+ KB\n"
     ]
    }
   ],
   "source": [
    "cities_df.info()"
   ]
  },
  {
   "cell_type": "markdown",
   "metadata": {},
   "source": [
    "### Convert Raw Data to DataFrame\n",
    "* Export the city data into a .csv.\n",
    "* Display the DataFrame"
   ]
  },
  {
   "cell_type": "code",
   "execution_count": 28,
   "metadata": {},
   "outputs": [],
   "source": [
    "cities_df.to_csv(\"Cities_Data.csv\", encoding=\"utf-8\", index=False)"
   ]
  },
  {
   "cell_type": "code",
   "execution_count": 33,
   "metadata": {},
   "outputs": [
    {
     "data": {
      "text/html": [
       "<div>\n",
       "<style scoped>\n",
       "    .dataframe tbody tr th:only-of-type {\n",
       "        vertical-align: middle;\n",
       "    }\n",
       "\n",
       "    .dataframe tbody tr th {\n",
       "        vertical-align: top;\n",
       "    }\n",
       "\n",
       "    .dataframe thead th {\n",
       "        text-align: right;\n",
       "    }\n",
       "</style>\n",
       "<table border=\"1\" class=\"dataframe\">\n",
       "  <thead>\n",
       "    <tr style=\"text-align: right;\">\n",
       "      <th></th>\n",
       "      <th>City</th>\n",
       "      <th>Lat</th>\n",
       "      <th>Lng</th>\n",
       "      <th>Max Temp</th>\n",
       "      <th>Humidity</th>\n",
       "      <th>Cloudiness</th>\n",
       "      <th>Wind Speed</th>\n",
       "      <th>Country</th>\n",
       "      <th>Date</th>\n",
       "    </tr>\n",
       "  </thead>\n",
       "  <tbody>\n",
       "    <tr>\n",
       "      <th>0</th>\n",
       "      <td>Port Elizabeth</td>\n",
       "      <td>-33.9180</td>\n",
       "      <td>25.5701</td>\n",
       "      <td>23.00</td>\n",
       "      <td>83</td>\n",
       "      <td>75</td>\n",
       "      <td>8.23</td>\n",
       "      <td>ZA</td>\n",
       "      <td>1612366424</td>\n",
       "    </tr>\n",
       "    <tr>\n",
       "      <th>1</th>\n",
       "      <td>Bāglung</td>\n",
       "      <td>28.2719</td>\n",
       "      <td>83.5898</td>\n",
       "      <td>9.86</td>\n",
       "      <td>49</td>\n",
       "      <td>16</td>\n",
       "      <td>2.33</td>\n",
       "      <td>NP</td>\n",
       "      <td>1612366323</td>\n",
       "    </tr>\n",
       "    <tr>\n",
       "      <th>2</th>\n",
       "      <td>Tasiilaq</td>\n",
       "      <td>65.6145</td>\n",
       "      <td>-37.6368</td>\n",
       "      <td>-2.36</td>\n",
       "      <td>97</td>\n",
       "      <td>100</td>\n",
       "      <td>9.48</td>\n",
       "      <td>GL</td>\n",
       "      <td>1612366424</td>\n",
       "    </tr>\n",
       "    <tr>\n",
       "      <th>3</th>\n",
       "      <td>Vaini</td>\n",
       "      <td>-21.2000</td>\n",
       "      <td>-175.2000</td>\n",
       "      <td>25.00</td>\n",
       "      <td>94</td>\n",
       "      <td>75</td>\n",
       "      <td>2.74</td>\n",
       "      <td>TO</td>\n",
       "      <td>1612366425</td>\n",
       "    </tr>\n",
       "    <tr>\n",
       "      <th>4</th>\n",
       "      <td>Pevek</td>\n",
       "      <td>69.7008</td>\n",
       "      <td>170.3133</td>\n",
       "      <td>-22.17</td>\n",
       "      <td>76</td>\n",
       "      <td>58</td>\n",
       "      <td>3.61</td>\n",
       "      <td>RU</td>\n",
       "      <td>1612366425</td>\n",
       "    </tr>\n",
       "  </tbody>\n",
       "</table>\n",
       "</div>"
      ],
      "text/plain": [
       "             City      Lat       Lng  Max Temp  Humidity  Cloudiness  \\\n",
       "0  Port Elizabeth -33.9180   25.5701     23.00        83          75   \n",
       "1         Bāglung  28.2719   83.5898      9.86        49          16   \n",
       "2        Tasiilaq  65.6145  -37.6368     -2.36        97         100   \n",
       "3           Vaini -21.2000 -175.2000     25.00        94          75   \n",
       "4           Pevek  69.7008  170.3133    -22.17        76          58   \n",
       "\n",
       "   Wind Speed Country        Date  \n",
       "0        8.23      ZA  1612366424  \n",
       "1        2.33      NP  1612366323  \n",
       "2        9.48      GL  1612366424  \n",
       "3        2.74      TO  1612366425  \n",
       "4        3.61      RU  1612366425  "
      ]
     },
     "execution_count": 33,
     "metadata": {},
     "output_type": "execute_result"
    }
   ],
   "source": [
    "cities_df['Date'] = cities_df.time\n",
    "cities_df.head()"
   ]
  },
  {
   "cell_type": "markdown",
   "metadata": {},
   "source": [
    "## Inspect the data and remove the cities where the humidity > 100%.\n",
    "----\n",
    "Skip this step if there are no cities that have humidity > 100%. "
   ]
  },
  {
   "cell_type": "code",
   "execution_count": null,
   "metadata": {},
   "outputs": [],
   "source": [
    "cities_df.loc[cities_df['Humidity'] > 100]"
   ]
  },
  {
   "cell_type": "markdown",
   "metadata": {},
   "source": [
    "There are no cities with humidity above 100%"
   ]
  },
  {
   "cell_type": "code",
   "execution_count": null,
   "metadata": {},
   "outputs": [],
   "source": [
    "#  Get the indices of cities that have humidity over 100%.\n"
   ]
  },
  {
   "cell_type": "code",
   "execution_count": null,
   "metadata": {},
   "outputs": [],
   "source": [
    "# Make a new DataFrame equal to the city data to drop all humidity outliers by index.\n",
    "# Passing \"inplace=False\" will make a copy of the city_data DataFrame, which we call \"clean_city_data\".\n"
   ]
  },
  {
   "cell_type": "code",
   "execution_count": null,
   "metadata": {},
   "outputs": [],
   "source": [
    "\n"
   ]
  },
  {
   "cell_type": "markdown",
   "metadata": {},
   "source": [
    "## Plotting the Data\n",
    "* Use proper labeling of the plots using plot titles (including date of analysis) and axes labels.\n",
    "* Save the plotted figures as .pngs."
   ]
  },
  {
   "cell_type": "markdown",
   "metadata": {},
   "source": [
    "## Latitude vs. Temperature Plot"
   ]
  },
  {
   "cell_type": "code",
   "execution_count": 110,
   "metadata": {
    "scrolled": true
   },
   "outputs": [
    {
     "data": {
      "image/png": "[encoded data removed]",
      "text/plain": [
       "<Figure size 648x432 with 1 Axes>"
      ]
     },
     "metadata": {
      "needs_background": "light"
     },
     "output_type": "display_data"
    }
   ],
   "source": [
    "cities_df.head()\n",
    "x = cities_df.Lat\n",
    "y = cities_df['Max Temp']\n",
    "\n",
    "plt.figure(figsize=(9,6))\n",
    "\n",
    "# Plot the lat vs the max temp\n",
    "plt.scatter(x, y,linewidths = 0.75, edgecolors = 'black', color = 'blue', s=35)\n",
    "\n",
    "plt.title(f\"Latitude vs. Max Temperature\")\n",
    "plt.xlabel(\"Latitude\")\n",
    "plt.ylabel(\"Max Temperature (F)\")\n",
    "plt.grid()\n",
    "\n",
    "# Modify ticks\n",
    "plt.xlim(-80,100)\n",
    "plt.ylim(min(cities_df['Max Temp'] - 10), max(cities_df['Max Temp'] + 10))\n",
    "\n",
    "\n",
    "#plt.show()\n",
    "plt.savefig(\"Lat vs Temp\")"
   ]
  },
  {
   "cell_type": "markdown",
   "metadata": {},
   "source": [
    "## Latitude vs. Humidity Plot"
   ]
  },
  {
   "cell_type": "code",
   "execution_count": 111,
   "metadata": {},
   "outputs": [
    {
     "data": {
      "image/png": "[encoded data removed]",
      "text/plain": [
       "<Figure size 576x432 with 1 Axes>"
      ]
     },
     "metadata": {
      "needs_background": "light"
     },
     "output_type": "display_data"
    }
   ],
   "source": [
    "cities_df.head()\n",
    "x = cities_df.Lat\n",
    "y = cities_df.Humidity\n",
    "\n",
    "plt.figure(figsize=(8,6))\n",
    "\n",
    "# Plot the lat vs the max temp\n",
    "plt.scatter(x, y,linewidths = 0.75, edgecolors = 'black', color = 'red', s=35)\n",
    "\n",
    "\n",
    "plt.title(f\"Latitude vs. Humidity\")\n",
    "plt.xlabel(\"Latitude\")\n",
    "plt.ylabel(\"Humidity (%)\")\n",
    "plt.grid()\n",
    "\n",
    "# Modify ticks\n",
    "plt.xlim(-80,100)\n",
    "plt.ylim(0,110)\n",
    "\n",
    "plt.savefig(\"Lat vs Humidity\")\n",
    "#plt.show()"
   ]
  },
  {
   "cell_type": "markdown",
   "metadata": {},
   "source": [
    "## Latitude vs. Cloudiness Plot"
   ]
  },
  {
   "cell_type": "code",
   "execution_count": 112,
   "metadata": {},
   "outputs": [
    {
     "data": {
      "image/png": "[encoded data removed]",
      "text/plain": [
       "<Figure size 576x432 with 1 Axes>"
      ]
     },
     "metadata": {
      "needs_background": "light"
     },
     "output_type": "display_data"
    }
   ],
   "source": [
    "x = cities_df.Lat\n",
    "y = cities_df.Cloudiness\n",
    "\n",
    "plt.figure(figsize=(8,6))\n",
    "\n",
    "# Plot the lat vs the max temp\n",
    "plt.scatter(x, y,linewidths = 0.75, edgecolors = 'black', color = 'yellow', s=35)\n",
    "\n",
    "\n",
    "plt.title(f\"Latitude vs. Cloudiness\")\n",
    "plt.xlabel(\"Latitude\")\n",
    "plt.ylabel(\"Cloudiness (%)\")\n",
    "plt.grid()\n",
    "\n",
    "# Modify ticks\n",
    "plt.xlim(-80,100)\n",
    "plt.ylim(-10,110)\n",
    "\n",
    "\n",
    "#plt.show()\n",
    "plt.savefig(\"Lat vs Cloudiness\")"
   ]
  },
  {
   "cell_type": "markdown",
   "metadata": {},
   "source": [
    "## Latitude vs. Wind Speed Plot"
   ]
  },
  {
   "cell_type": "code",
   "execution_count": 113,
   "metadata": {},
   "outputs": [
    {
     "data": {
      "image/png": "[encoded data removed]",
      "text/plain": [
       "<Figure size 576x432 with 1 Axes>"
      ]
     },
     "metadata": {
      "needs_background": "light"
     },
     "output_type": "display_data"
    }
   ],
   "source": [
    "x = cities_df.Lat\n",
    "y = cities_df['Wind Speed']\n",
    "\n",
    "plt.figure(figsize=(8,6))\n",
    "\n",
    "# Plot the lat vs the max temp\n",
    "plt.scatter(x, y,linewidths = 0.75, edgecolors = 'black', color = 'grey', s=35)\n",
    "\n",
    "\n",
    "plt.title(f\"Latitude vs. Wind Speed\")\n",
    "plt.xlabel(\"Latitude\")\n",
    "plt.ylabel(\"Wind Speed (m/s)\")\n",
    "plt.grid()\n",
    "\n",
    "# Modify ticks\n",
    "plt.xlim(-80,100)\n",
    "plt.ylim(min(cities_df['Wind Speed']) - 5, max(cities_df['Wind Speed'] + 5))\n",
    "\n",
    "\n",
    "#plt.show()\n",
    "plt.savefig(\"Lat vs Wind Speed\")"
   ]
  },
  {
   "cell_type": "markdown",
   "metadata": {},
   "source": [
    "## Linear Regression"
   ]
  },
  {
   "cell_type": "code",
   "execution_count": 74,
   "metadata": {},
   "outputs": [],
   "source": [
    "northern_hemisphere = cities_df.loc[cities_df['Lat'] >= 0]\n",
    "southern_hemisphere = cities_df.loc[cities_df['Lat'] < 0]"
   ]
  },
  {
   "cell_type": "code",
   "execution_count": 75,
   "metadata": {},
   "outputs": [
    {
     "name": "stdout",
     "output_type": "stream",
     "text": [
      "<class 'pandas.core.frame.DataFrame'>\n",
      "Int64Index: 382 entries, 1 to 568\n",
      "Data columns (total 9 columns):\n",
      " #   Column      Non-Null Count  Dtype  \n",
      "---  ------      --------------  -----  \n",
      " 0   City        382 non-null    object \n",
      " 1   Lat         382 non-null    float64\n",
      " 2   Lng         382 non-null    float64\n",
      " 3   Max Temp    382 non-null    float64\n",
      " 4   Humidity    382 non-null    int64  \n",
      " 5   Cloudiness  382 non-null    int64  \n",
      " 6   Wind Speed  382 non-null    float64\n",
      " 7   Country     382 non-null    object \n",
      " 8   Date        382 non-null    int64  \n",
      "dtypes: float64(4), int64(3), object(2)\n",
      "memory usage: 29.8+ KB\n"
     ]
    }
   ],
   "source": [
    "northern_hemisphere.info()"
   ]
  },
  {
   "cell_type": "code",
   "execution_count": 76,
   "metadata": {},
   "outputs": [
    {
     "name": "stdout",
     "output_type": "stream",
     "text": [
      "<class 'pandas.core.frame.DataFrame'>\n",
      "Int64Index: 188 entries, 0 to 569\n",
      "Data columns (total 9 columns):\n",
      " #   Column      Non-Null Count  Dtype  \n",
      "---  ------      --------------  -----  \n",
      " 0   City        188 non-null    object \n",
      " 1   Lat         188 non-null    float64\n",
      " 2   Lng         188 non-null    float64\n",
      " 3   Max Temp    188 non-null    float64\n",
      " 4   Humidity    188 non-null    int64  \n",
      " 5   Cloudiness  188 non-null    int64  \n",
      " 6   Wind Speed  188 non-null    float64\n",
      " 7   Country     188 non-null    object \n",
      " 8   Date        188 non-null    int64  \n",
      "dtypes: float64(4), int64(3), object(2)\n",
      "memory usage: 14.7+ KB\n"
     ]
    }
   ],
   "source": [
    "southern_hemishphere.info()"
   ]
  },
  {
   "cell_type": "markdown",
   "metadata": {},
   "source": [
    "####  Northern Hemisphere - Max Temp vs. Latitude Linear Regression"
   ]
  },
  {
   "cell_type": "code",
   "execution_count": 114,
   "metadata": {},
   "outputs": [
    {
     "data": {
      "image/png": "[encoded data removed]",
      "text/plain": [
       "<Figure size 432x288 with 1 Axes>"
      ]
     },
     "metadata": {
      "needs_background": "light"
     },
     "output_type": "display_data"
    }
   ],
   "source": [
    "x = northern_hemisphere['Max Temp']\n",
    "y = northern_hemisphere['Lat']\n",
    "(slope, intercept, r, p, se) = linregress(northern_hemisphere['Max Temp'], northern_hemisphere['Lat'])\n",
    "regress_values = x * slope + intercept\n",
    "line_eq = \"y = \" + str(round(slope,2)) + \"x + \" + str(round(intercept,2))\n",
    "plt.scatter(x,y)\n",
    "plt.plot(x,regress_values,\"r-\")\n",
    "plt.annotate(line_eq,(-20,0),fontsize=15,color=\"black\")\n",
    "plt.xlabel('Max Temp')\n",
    "plt.ylabel('Latitude')\n",
    "plt.savefig(\"North Temp vs Lat\")\n",
    "#plt.show()"
   ]
  },
  {
   "cell_type": "markdown",
   "metadata": {},
   "source": [
    "####  Southern Hemisphere - Max Temp vs. Latitude Linear Regression"
   ]
  },
  {
   "cell_type": "code",
   "execution_count": 115,
   "metadata": {},
   "outputs": [
    {
     "data": {
      "image/png": "[encoded data removed]",
      "text/plain": [
       "<Figure size 432x288 with 1 Axes>"
      ]
     },
     "metadata": {
      "needs_background": "light"
     },
     "output_type": "display_data"
    }
   ],
   "source": [
    "x = southern_hemisphere['Max Temp']\n",
    "y = southern_hemisphere['Lat']\n",
    "(slope, intercept, r, p, se) = linregress(southern_hemisphere['Max Temp'], southern_hemisphere['Lat'])\n",
    "regress_values = x * slope + intercept\n",
    "line_eq = \"y = \" + str(round(slope,2)) + \"x + \" + str(round(intercept,2))\n",
    "plt.scatter(x,y)\n",
    "plt.plot(x,regress_values,\"r-\")\n",
    "plt.annotate(line_eq,(22,-55),fontsize=15,color=\"black\")\n",
    "plt.xlabel('Max Temp')\n",
    "plt.ylabel('Latitude')\n",
    "plt.savefig(\"South Temp vs Lat\")\n",
    "#plt.show()"
   ]
  },
  {
   "cell_type": "markdown",
   "metadata": {},
   "source": [
    "####  Northern Hemisphere - Humidity (%) vs. Latitude Linear Regression"
   ]
  },
  {
   "cell_type": "code",
   "execution_count": 116,
   "metadata": {},
   "outputs": [
    {
     "data": {
      "image/png": "[encoded data removed]",
      "text/plain": [
       "<Figure size 432x288 with 1 Axes>"
      ]
     },
     "metadata": {
      "needs_background": "light"
     },
     "output_type": "display_data"
    }
   ],
   "source": [
    "x = northern_hemisphere['Humidity']\n",
    "y = northern_hemisphere['Lat']\n",
    "(slope, intercept, r, p, se) = linregress(northern_hemisphere['Humidity'], northern_hemisphere['Lat'])\n",
    "regress_values = x * slope + intercept\n",
    "line_eq = \"y = \" + str(round(slope,2)) + \"x + \" + str(round(intercept,2))\n",
    "plt.scatter(x,y)\n",
    "plt.plot(x,regress_values,\"r-\")\n",
    "plt.annotate(line_eq,(10,75),fontsize=15,color=\"black\")\n",
    "plt.xlabel('Humidity')\n",
    "plt.ylabel('Latitude')\n",
    "#plt.show()\n",
    "plt.savefig(\"North Humidity vs Lat\")"
   ]
  },
  {
   "cell_type": "markdown",
   "metadata": {},
   "source": [
    "####  Southern Hemisphere - Humidity (%) vs. Latitude Linear Regression"
   ]
  },
  {
   "cell_type": "code",
   "execution_count": 117,
   "metadata": {},
   "outputs": [
    {
     "data": {
      "image/png": "[encoded data removed]",
      "text/plain": [
       "<Figure size 432x288 with 1 Axes>"
      ]
     },
     "metadata": {
      "needs_background": "light"
     },
     "output_type": "display_data"
    }
   ],
   "source": [
    "x = southern_hemisphere['Humidity']\n",
    "y = southern_hemisphere['Lat']\n",
    "(slope, intercept, r, p, se) = linregress(southern_hemisphere['Humidity'], southern_hemisphere['Lat'])\n",
    "regress_values = x * slope + intercept\n",
    "line_eq = \"y = \" + str(round(slope,2)) + \"x + \" + str(round(intercept,2))\n",
    "plt.scatter(x,y)\n",
    "plt.plot(x,regress_values,\"r-\")\n",
    "plt.annotate(line_eq,(22,-55),fontsize=15,color=\"black\")\n",
    "plt.xlabel('Humidity')\n",
    "plt.ylabel('Latitude')\n",
    "#plt.show()\n",
    "plt.savefig(\"South Humidity vs Lat\")"
   ]
  },
  {
   "cell_type": "markdown",
   "metadata": {},
   "source": [
    "####  Northern Hemisphere - Cloudiness (%) vs. Latitude Linear Regression"
   ]
  },
  {
   "cell_type": "code",
   "execution_count": 118,
   "metadata": {},
   "outputs": [
    {
     "data": {
      "image/png": "[encoded data removed]",
      "text/plain": [
       "<Figure size 432x288 with 1 Axes>"
      ]
     },
     "metadata": {
      "needs_background": "light"
     },
     "output_type": "display_data"
    }
   ],
   "source": [
    "x = northern_hemisphere['Cloudiness']\n",
    "y = northern_hemisphere['Lat']\n",
    "(slope, intercept, r, p, se) = linregress(northern_hemisphere['Cloudiness'], northern_hemisphere['Lat'])\n",
    "regress_values = x * slope + intercept\n",
    "line_eq = \"y = \" + str(round(slope,2)) + \"x + \" + str(round(intercept,2))\n",
    "plt.scatter(x,y)\n",
    "plt.plot(x,regress_values,\"r-\")\n",
    "plt.annotate(line_eq,(28,75),fontsize=15,color=\"black\")\n",
    "plt.xlabel('Cloudiness')\n",
    "plt.ylabel('Latitude')\n",
    "#plt.show()\n",
    "plt.savefig(\"North Cloudiness vs Lat\")"
   ]
  },
  {
   "cell_type": "markdown",
   "metadata": {},
   "source": [
    "####  Southern Hemisphere - Cloudiness (%) vs. Latitude Linear Regression"
   ]
  },
  {
   "cell_type": "code",
   "execution_count": 119,
   "metadata": {},
   "outputs": [
    {
     "data": {
      "image/png": "[encoded data removed]",
      "text/plain": [
       "<Figure size 432x288 with 1 Axes>"
      ]
     },
     "metadata": {
      "needs_background": "light"
     },
     "output_type": "display_data"
    }
   ],
   "source": [
    "x = southern_hemisphere['Cloudiness']\n",
    "y = southern_hemisphere['Lat']\n",
    "(slope, intercept, r, p, se) = linregress(southern_hemisphere['Cloudiness'], southern_hemisphere['Lat'])\n",
    "regress_values = x * slope + intercept\n",
    "line_eq = \"y = \" + str(round(slope,2)) + \"x + \" + str(round(intercept,2))\n",
    "plt.scatter(x,y)\n",
    "plt.plot(x,regress_values,\"r-\")\n",
    "plt.annotate(line_eq,(22,-55),fontsize=15,color=\"black\")\n",
    "plt.xlabel('Cloudiness')\n",
    "plt.ylabel('Latitude')\n",
    "#plt.show()\n",
    "plt.savefig(\"South Cloudiness vs Lat\")"
   ]
  },
  {
   "cell_type": "markdown",
   "metadata": {},
   "source": [
    "####  Northern Hemisphere - Wind Speed (mph) vs. Latitude Linear Regression"
   ]
  },
  {
   "cell_type": "code",
   "execution_count": 120,
   "metadata": {},
   "outputs": [
    {
     "data": {
      "image/png": "[encoded data removed]",
      "text/plain": [
       "<Figure size 432x288 with 1 Axes>"
      ]
     },
     "metadata": {
      "needs_background": "light"
     },
     "output_type": "display_data"
    }
   ],
   "source": [
    "x = northern_hemisphere['Wind Speed']\n",
    "y = northern_hemisphere['Lat']\n",
    "(slope, intercept, r, p, se) = linregress(northern_hemisphere['Wind Speed'], northern_hemisphere['Lat'])\n",
    "regress_values = x * slope + intercept\n",
    "line_eq = \"y = \" + str(round(slope,2)) + \"x + \" + str(round(intercept,2))\n",
    "plt.scatter(x,y)\n",
    "plt.plot(x,regress_values,\"r-\")\n",
    "plt.annotate(line_eq,(10,75),fontsize=15,color=\"black\")\n",
    "plt.xlabel('Wind Speed')\n",
    "plt.ylabel('Latitude')\n",
    "#plt.shWind Speed\n",
    "plt.savefig(\"North Wind Speed vs Lat\")"
   ]
  },
  {
   "cell_type": "markdown",
   "metadata": {},
   "source": [
    "####  Southern Hemisphere - Wind Speed (mph) vs. Latitude Linear Regression"
   ]
  },
  {
   "cell_type": "code",
   "execution_count": 121,
   "metadata": {},
   "outputs": [
    {
     "data": {
      "image/png": "[encoded data removed]",
      "text/plain": [
       "<Figure size 432x288 with 1 Axes>"
      ]
     },
     "metadata": {
      "needs_background": "light"
     },
     "output_type": "display_data"
    }
   ],
   "source": [
    "x = southern_hemisphere['Wind Speed']\n",
    "y = southern_hemisphere['Lat']\n",
    "(slope, intercept, r, p, se) = linregress(southern_hemisphere['Wind Speed'], southern_hemisphere['Lat'])\n",
    "regress_values = x * slope + intercept\n",
    "line_eq = \"y = \" + str(round(slope,2)) + \"x + \" + str(round(intercept,2))\n",
    "plt.scatter(x,y)\n",
    "plt.plot(x,regress_values,\"r-\")\n",
    "plt.annotate(line_eq,(6,-50),fontsize=15,color=\"black\")\n",
    "plt.xlabel('Wind Speed')\n",
    "plt.ylabel('Latitude')\n",
    "#plt.show()\n",
    "plt.savefig(\"South Wind Speed vs Lat\")"
   ]
  },
  {
   "cell_type": "code",
   "execution_count": null,
   "metadata": {},
   "outputs": [],
   "source": []
  }
 ],
 "metadata": {
  "anaconda-cloud": {},
  "kernel_info": {
   "name": "python3"
  },
  "kernelspec": {
   "display_name": "Python 3",
   "language": "python",
   "name": "python3"
  },
  "language_info": {
   "codemirror_mode": {
    "name": "ipython",
    "version": 3
   },
   "file_extension": ".py",
   "mimetype": "text/x-python",
   "name": "python",
   "nbconvert_exporter": "python",
   "pygments_lexer": "ipython3",
   "version": "3.8.5"
  },
  "latex_envs": {
   "LaTeX_envs_menu_present": true,
   "autoclose": false,
   "autocomplete": true,
   "bibliofile": "biblio.bib",
   "cite_by": "apalike",
   "current_citInitial": 1,
   "eqLabelWithNumbers": true,
   "eqNumInitial": 1,
   "hotkeys": {
    "equation": "Ctrl-E",
    "itemize": "Ctrl-I"
   },
   "labels_anchors": false,
   "latex_user_defs": false,
   "report_style_numbering": false,
   "user_envs_cfg": false
  },
  "nteract": {
   "version": "0.12.3"
  }
 },
 "nbformat": 4,
 "nbformat_minor": 2
}
